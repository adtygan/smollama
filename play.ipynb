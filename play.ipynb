{
 "cells": [
  {
   "cell_type": "code",
   "execution_count": 40,
   "metadata": {},
   "outputs": [
    {
     "name": "stdout",
     "output_type": "stream",
     "text": [
      "<class 'datasets.arrow_dataset.Dataset'> 1801350\n"
     ]
    }
   ],
   "source": [
    "# fetching data from hf datasets: Salesforce/wikitext\n",
    "# same as the one used by Graphcore/gpt2-wikitext-103\n",
    "\n",
    "from datasets import load_dataset\n",
    "\n",
    "ds = load_dataset(\"Salesforce/wikitext\", \"wikitext-103-raw-v1\", split='train')\n",
    "print(type(ds), len(ds))"
   ]
  },
  {
   "cell_type": "code",
   "execution_count": 42,
   "metadata": {},
   "outputs": [
    {
     "data": {
      "text/plain": [
       "{'text': ' 96 ammunition packing boxes \\n'}"
      ]
     },
     "execution_count": 42,
     "metadata": {},
     "output_type": "execute_result"
    }
   ],
   "source": [
    "ds[100]"
   ]
  },
  {
   "cell_type": "code",
   "execution_count": 32,
   "metadata": {},
   "outputs": [
    {
     "name": "stdout",
     "output_type": "stream",
     "text": [
      "[31373, 995, 11, 1309, 338, 467, 78] \n",
      " hello world, let's goo\n"
     ]
    }
   ],
   "source": [
    "import tiktoken\n",
    "\n",
    "# yes, i'm using gpt2's tokenizer here \n",
    "# it is bpe, but not the version llama used, but should be okay ig\n",
    "enc = tiktoken.get_encoding(\"gpt2\")\n",
    "\n",
    "encoded = enc.encode(\"hello world, let's goo\")\n",
    "decoded = enc.decode(encoded)\n",
    "print(encoded, '\\n', decoded)"
   ]
  },
  {
   "cell_type": "code",
   "execution_count": 46,
   "metadata": {},
   "outputs": [
    {
     "data": {
      "text/plain": [
       "166"
      ]
     },
     "execution_count": 46,
     "metadata": {},
     "output_type": "execute_result"
    }
   ],
   "source": [
    "len(enc.encode(ds[3]['text']))"
   ]
  },
  {
   "cell_type": "code",
   "execution_count": 102,
   "metadata": {},
   "outputs": [],
   "source": [
    "import torch\n",
    "from torch.utils.data import Dataset, DataLoader\n",
    "from datasets import load_dataset\n",
    "import tiktoken\n",
    "\n",
    "class WikiText103Dataset(Dataset):\n",
    "    def __init__(self, split='train', seq_len=128):\n",
    "        dataset = load_dataset(\"Salesforce/wikitext\", \"wikitext-103-v1\", split=split)\n",
    "        self.tokenizer = tiktoken.get_encoding(\"gpt2\")\n",
    "        self.seq_len = seq_len\n",
    "        \n",
    "        # Filter out empty entries\n",
    "        self.dataset = [item for item in dataset if item['text'].strip()]\n",
    "\n",
    "    def __len__(self):\n",
    "        return len(self.dataset)\n",
    "\n",
    "    # TODO: not the most optimized, but simple and works, can use pad_sequence\n",
    "    # TODO: also needs attention mask\n",
    "    def __getitem__(self, idx):\n",
    "        text = self.dataset[idx]['text']\n",
    "        tokens = self.tokenizer.encode(text)\n",
    "        \n",
    "        # we need to pull 1 more token above seq_len \n",
    "        # reason: [a,b,c] -> [b,c,d] for seq [a,b,c,d]\n",
    "\n",
    "        # clip tokens if exceeding seq_lim + 1\n",
    "        if len(tokens) > (self.seq_len + 1):\n",
    "            tokens = tokens[:(self.seq_len + 1)] \n",
    "        # pad with zeros if short of seq_len + 1\n",
    "        else:\n",
    "            tokens = tokens + [0] * ((self.seq_len + 1) - len(tokens)) \n",
    "\n",
    "        x = torch.tensor(tokens[:-1], dtype=torch.long)\n",
    "        y = torch.tensor(tokens[1:], dtype=torch.long)\n",
    "        \n",
    "        return x, y\n",
    "\n",
    "# create dataset and dataloader\n",
    "dataset = WikiText103Dataset(split='train')\n",
    "dataloader = DataLoader(dataset, batch_size=16, shuffle=True)"
   ]
  },
  {
   "cell_type": "code",
   "execution_count": 111,
   "metadata": {},
   "outputs": [
    {
     "name": "stdout",
     "output_type": "stream",
     "text": [
      "torch.Size([16, 128]) torch.Size([16, 128])\n",
      "\n",
      "[INPUT]  The rivalry between Borden and Angier dominates the\n",
      "[OUTPUT]  rivalry between Borden and Angier dominates the film\n",
      "----------\n",
      "[INPUT]  This was followed by Operation Drežnica\n",
      "[OUTPUT]  was followed by Operation Drežnica ,\n",
      "----------\n",
      "[INPUT]  Victor Yarros and Rachelle Yarros \n",
      "\n",
      "[OUTPUT]  Yarros and Rachelle Yarros \n",
      "!\n",
      "----------\n",
      "[INPUT]  As a result , he and his producers spent the\n",
      "[OUTPUT]  a result , he and his producers spent the time\n",
      "----------\n",
      "[INPUT]  Several countries have produced postage stamps which depict the northern\n",
      "[OUTPUT]  countries have produced postage stamps which depict the northern bald\n",
      "----------\n"
     ]
    }
   ],
   "source": [
    "# sample\n",
    "for batch in dataloader:\n",
    "    x, y = batch\n",
    "    print(x.shape, y.shape)\n",
    "    print()\n",
    "    for input, output in zip(x.tolist()[:5], y.tolist()[:5]):\n",
    "        print(\"[INPUT]\", enc.decode(input[:10]))\n",
    "        print(\"[OUTPUT]\", enc.decode(output[:10]))\n",
    "        print(\"-\"*10)\n",
    "    break"
   ]
  },
  {
   "cell_type": "code",
   "execution_count": null,
   "metadata": {},
   "outputs": [],
   "source": []
  }
 ],
 "metadata": {
  "kernelspec": {
   "display_name": "smollama",
   "language": "python",
   "name": "python3"
  },
  "language_info": {
   "codemirror_mode": {
    "name": "ipython",
    "version": 3
   },
   "file_extension": ".py",
   "mimetype": "text/x-python",
   "name": "python",
   "nbconvert_exporter": "python",
   "pygments_lexer": "ipython3",
   "version": "3.10.14"
  }
 },
 "nbformat": 4,
 "nbformat_minor": 2
}
