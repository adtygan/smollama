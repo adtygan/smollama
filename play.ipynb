{
 "cells": [
  {
   "cell_type": "code",
   "execution_count": 40,
   "metadata": {},
   "outputs": [
    {
     "name": "stdout",
     "output_type": "stream",
     "text": [
      "<class 'datasets.arrow_dataset.Dataset'> 1801350\n"
     ]
    }
   ],
   "source": [
    "# fetching data from hf datasets: Salesforce/wikitext\n",
    "# same as the one used by Graphcore/gpt2-wikitext-103\n",
    "\n",
    "from datasets import load_dataset\n",
    "\n",
    "ds = load_dataset(\"Salesforce/wikitext\", \"wikitext-103-raw-v1\", split='train')\n",
    "print(type(ds), len(ds))"
   ]
  },
  {
   "cell_type": "code",
   "execution_count": 42,
   "metadata": {},
   "outputs": [
    {
     "data": {
      "text/plain": [
       "{'text': ' 96 ammunition packing boxes \\n'}"
      ]
     },
     "execution_count": 42,
     "metadata": {},
     "output_type": "execute_result"
    }
   ],
   "source": [
    "ds[100]"
   ]
  },
  {
   "cell_type": "code",
   "execution_count": 32,
   "metadata": {},
   "outputs": [
    {
     "name": "stdout",
     "output_type": "stream",
     "text": [
      "[31373, 995, 11, 1309, 338, 467, 78] \n",
      " hello world, let's goo\n"
     ]
    }
   ],
   "source": [
    "import tiktoken\n",
    "\n",
    "# yes, i'm using gpt2's tokenizer here \n",
    "# it is bpe, but not the version llama used, but should be okay ig\n",
    "enc = tiktoken.get_encoding(\"gpt2\")\n",
    "\n",
    "encoded = enc.encode(\"hello world, let's goo\")\n",
    "decoded = enc.decode(encoded)\n",
    "print(encoded, '\\n', decoded)"
   ]
  },
  {
   "cell_type": "code",
   "execution_count": 46,
   "metadata": {},
   "outputs": [
    {
     "data": {
      "text/plain": [
       "166"
      ]
     },
     "execution_count": 46,
     "metadata": {},
     "output_type": "execute_result"
    }
   ],
   "source": [
    "len(enc.encode(ds[3]['text']))"
   ]
  },
  {
   "cell_type": "code",
   "execution_count": 55,
   "metadata": {},
   "outputs": [
    {
     "name": "stdout",
     "output_type": "stream",
     "text": [
      "torch.Size([16, 1024])\n",
      "tensor([ 311, 1076,  786,  ...,    0,    0,    0])\n"
     ]
    }
   ],
   "source": [
    "import torch\n",
    "from torch.utils.data import Dataset, DataLoader\n",
    "from datasets import load_dataset\n",
    "import tiktoken\n",
    "\n",
    "class WikiText103Dataset(Dataset):\n",
    "    def __init__(self, split='train', max_length=1024):\n",
    "        self.dataset = load_dataset(\"Salesforce/wikitext\", \"wikitext-103-raw-v1\", split=split)\n",
    "        self.tokenizer = tiktoken.get_encoding(\"gpt2\")\n",
    "        self.max_length = max_length\n",
    "\n",
    "    def __len__(self):\n",
    "        return len(self.dataset)\n",
    "\n",
    "    # TODO: not the most optimized, but simple and works\n",
    "    # can use pad_sequence, do later\n",
    "    def __getitem__(self, idx):\n",
    "        text = self.dataset[idx]['text']\n",
    "        tokens = self.tokenizer.encode(text)\n",
    "        \n",
    "        # clip tokens if exceeding seq_lim\n",
    "        if len(tokens) > self.max_length:\n",
    "            tokens = tokens[:self.max_length] \n",
    "        # pad with zeros if short of seq_len\n",
    "        else:\n",
    "            tokens = tokens + [0] * (self.max_length - len(tokens)) \n",
    "        \n",
    "        return torch.tensor(tokens, dtype=torch.long)\n",
    "\n",
    "# create dataset and dataloader\n",
    "dataset = WikiText103Dataset(split='train')\n",
    "dataloader = DataLoader(dataset, batch_size=16, shuffle=True)\n",
    "\n",
    "# example usage\n",
    "for batch in dataloader:\n",
    "    print(batch.shape)\n",
    "    print(batch[2])\n",
    "    break"
   ]
  },
  {
   "cell_type": "code",
   "execution_count": null,
   "metadata": {},
   "outputs": [],
   "source": []
  }
 ],
 "metadata": {
  "kernelspec": {
   "display_name": "smollama",
   "language": "python",
   "name": "python3"
  },
  "language_info": {
   "codemirror_mode": {
    "name": "ipython",
    "version": 3
   },
   "file_extension": ".py",
   "mimetype": "text/x-python",
   "name": "python",
   "nbconvert_exporter": "python",
   "pygments_lexer": "ipython3",
   "version": "3.10.14"
  }
 },
 "nbformat": 4,
 "nbformat_minor": 2
}
