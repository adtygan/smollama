{
 "cells": [
  {
   "cell_type": "code",
   "execution_count": 35,
   "metadata": {},
   "outputs": [],
   "source": [
    "%matplotlib inline\n",
    "import matplotlib.pyplot as plt"
   ]
  },
  {
   "cell_type": "code",
   "execution_count": 8,
   "metadata": {},
   "outputs": [
    {
     "name": "stdout",
     "output_type": "stream",
     "text": [
      "2.4.1+cu121\n"
     ]
    }
   ],
   "source": [
    "import torch\n",
    "print(torch.__version__)"
   ]
  },
  {
   "cell_type": "code",
   "execution_count": 9,
   "metadata": {},
   "outputs": [
    {
     "data": {
      "text/plain": [
       "device(type='cuda')"
      ]
     },
     "execution_count": 9,
     "metadata": {},
     "output_type": "execute_result"
    }
   ],
   "source": [
    "device = torch.device(\"cuda\" if torch.cuda.is_available() else \"cpu\")\n",
    "device"
   ]
  },
  {
   "cell_type": "code",
   "execution_count": 10,
   "metadata": {},
   "outputs": [
    {
     "name": "stdout",
     "output_type": "stream",
     "text": [
      "<class 'datasets.arrow_dataset.Dataset'> 1801350\n"
     ]
    }
   ],
   "source": [
    "# fetching data from hf datasets: Salesforce/wikitext\n",
    "# same as the one used by Graphcore/gpt2-wikitext-103\n",
    "import datasets\n",
    "from datasets import load_dataset\n",
    "\n",
    "ds = load_dataset(\"Salesforce/wikitext\", \"wikitext-103-raw-v1\", split='train')\n",
    "print(type(ds), len(ds))"
   ]
  },
  {
   "cell_type": "code",
   "execution_count": 11,
   "metadata": {},
   "outputs": [
    {
     "data": {
      "text/plain": [
       "{'text': ' 96 ammunition packing boxes \\n'}"
      ]
     },
     "execution_count": 11,
     "metadata": {},
     "output_type": "execute_result"
    }
   ],
   "source": [
    "ds[100]"
   ]
  },
  {
   "cell_type": "code",
   "execution_count": 12,
   "metadata": {},
   "outputs": [
    {
     "name": "stdout",
     "output_type": "stream",
     "text": [
      "[31373, 995, 11, 1309, 338, 467, 78] \n",
      " hello world, let's goo\n"
     ]
    }
   ],
   "source": [
    "import tiktoken\n",
    "\n",
    "# yes, i'm using gpt2's tokenizer here \n",
    "# it is bpe, but not the version llama used, but should be okay ig\n",
    "enc = tiktoken.get_encoding(\"gpt2\")\n",
    "\n",
    "encoded = enc.encode(\"hello world, let's goo\")\n",
    "decoded = enc.decode(encoded)\n",
    "print(encoded, '\\n', decoded)"
   ]
  },
  {
   "cell_type": "code",
   "execution_count": 13,
   "metadata": {},
   "outputs": [
    {
     "name": "stdout",
     "output_type": "stream",
     "text": [
      "VOCAB SIZE: 50257\n"
     ]
    }
   ],
   "source": [
    "vocab_sz = enc.n_vocab\n",
    "print(f\"VOCAB SIZE: {vocab_sz}\")"
   ]
  },
  {
   "cell_type": "code",
   "execution_count": 14,
   "metadata": {},
   "outputs": [
    {
     "data": {
      "text/plain": [
       "166"
      ]
     },
     "execution_count": 14,
     "metadata": {},
     "output_type": "execute_result"
    }
   ],
   "source": [
    "len(enc.encode(ds[3]['text']))"
   ]
  },
  {
   "cell_type": "code",
   "execution_count": 16,
   "metadata": {},
   "outputs": [],
   "source": [
    "import torch\n",
    "from torch.utils.data import Dataset, DataLoader\n",
    "from datasets import load_dataset\n",
    "import tiktoken\n",
    "\n",
    "class WikiText103Dataset(Dataset):\n",
    "    def __init__(self, split='train', seq_len=128):\n",
    "        self.dataset = load_dataset(\"Salesforce/wikitext\", \"wikitext-103-v1\", split=split)\n",
    "        self.tokenizer = tiktoken.get_encoding(\"gpt2\")\n",
    "        self.seq_len = seq_len\n",
    "\n",
    "    def __len__(self):\n",
    "        return len(self.dataset)\n",
    "\n",
    "    # TODO: not the most optimized, but simple and works, can use pad_sequence\n",
    "    # TODO: also needs attention mask\n",
    "    # TODO: also if say tokens is of len 100, and seq_len is 40, other 60 tokens are thrown away\n",
    "    # TODO: use sliding window to use other tokens\n",
    "    def __getitem__(self, idx):\n",
    "        text = self.dataset[idx]['text']\n",
    "\n",
    "        # skip empty entries\n",
    "        # wraps to beginning for last value\n",
    "        if not text.strip():\n",
    "            return self. __getitem__((idx + 1) % len(self))\n",
    "        \n",
    "        tokens = self.tokenizer.encode(text)\n",
    "        \n",
    "        # we need to pull 1 more token above seq_len \n",
    "        # reason: [a,b,c] -> [b,c,d] for seq [a,b,c,d]\n",
    "\n",
    "        # clip tokens if exceeding seq_lim + 1\n",
    "        if len(tokens) > (self.seq_len + 1):\n",
    "            tokens = tokens[:(self.seq_len + 1)]\n",
    "        # pad with zeros if short of seq_len + 1\n",
    "        else:\n",
    "            tokens = tokens + [0] * ((self.seq_len + 1) - len(tokens)) \n",
    "\n",
    "        x = torch.tensor(tokens[:-1], dtype=torch.long)\n",
    "        y = torch.tensor(tokens[1:], dtype=torch.long)\n",
    "        \n",
    "        return x, y\n",
    "\n",
    "# create dataset and dataloader\n",
    "dataset = WikiText103Dataset(split='train')\n",
    "#dataloader = DataLoader(dataset, batch_size=16, shuffle=True)"
   ]
  },
  {
   "cell_type": "code",
   "execution_count": 18,
   "metadata": {},
   "outputs": [],
   "source": [
    "# as the original data is too big, we make a smaller subset for\n",
    "# quicker iteration\n",
    "\n",
    "subset_size = 10000\n",
    "subset_indices = list(range(subset_size))\n",
    "subset_dataset = torch.utils.data.Subset(dataset, subset_indices)\n",
    "\n",
    "# Create dataloader\n",
    "dataloader = DataLoader(subset_dataset, batch_size=32, shuffle=True, num_workers=4, pin_memory=True)"
   ]
  },
  {
   "cell_type": "code",
   "execution_count": 21,
   "metadata": {},
   "outputs": [
    {
     "name": "stdout",
     "output_type": "stream",
     "text": [
      "torch.Size([32, 128]) torch.Size([32, 128])\n",
      "\n",
      "[INPUT]  The regiment was split into three groups for the attack\n",
      "[OUTPUT]  regiment was split into three groups for the attack .\n",
      "----------\n",
      "[INPUT]  On May 17 , 2016 , Nathan signed with the\n",
      "[OUTPUT]  May 17 , 2016 , Nathan signed with the Chicago\n",
      "----------\n",
      "[INPUT]  = = French recovery = = \n",
      "!!\n",
      "[OUTPUT]  = French recovery = = \n",
      "!!!\n",
      "----------\n",
      "[INPUT]  Nathan graduated from Pine Bush High School in Pine Bush\n",
      "[OUTPUT]  graduated from Pine Bush High School in Pine Bush ,\n",
      "----------\n",
      "[INPUT]  Proper discipline for children while being careful not to provoke\n",
      "[OUTPUT]  discipline for children while being careful not to provoke them\n",
      "----------\n"
     ]
    }
   ],
   "source": [
    "# sample\n",
    "for batch in dataloader:\n",
    "    x, y = batch\n",
    "    print(x.shape, y.shape)\n",
    "    print()\n",
    "    for input, output in zip(x.tolist()[:5], y.tolist()[:5]):\n",
    "        print(\"[INPUT]\", enc.decode(input[:10]))\n",
    "        print(\"[OUTPUT]\", enc.decode(output[:10]))\n",
    "        print(\"-\"*10)\n",
    "    break"
   ]
  },
  {
   "cell_type": "code",
   "execution_count": 27,
   "metadata": {},
   "outputs": [],
   "source": [
    "# copping from @bkitano xd\n",
    "# TODO: i'm not using an eval set for now, but when i do, below function should be modded\n",
    "# check @bkitano's implem\n",
    "\n",
    "import numpy as np\n",
    "\n",
    "@torch.no_grad()\n",
    "def evaluate_loss(model, eval_dataloader):\n",
    "    out = {}\n",
    "    model.eval()\n",
    "    losses = []\n",
    "    for batch in eval_dataloader:\n",
    "        xb, yb = batch\n",
    "        xb, yb = xb.to(device), yb.to(device)\n",
    "        _, loss = model(xb, yb)\n",
    "        losses.append(loss.item())\n",
    "    out[\"train\"] = np.mean(losses)\n",
    "    model.train()\n",
    "    return out"
   ]
  },
  {
   "cell_type": "code",
   "execution_count": 23,
   "metadata": {},
   "outputs": [
    {
     "name": "stdout",
     "output_type": "stream",
     "text": [
      "model params: 6487313\n"
     ]
    }
   ],
   "source": [
    "from torch import nn\n",
    "from torch.nn import functional as F\n",
    "\n",
    "class DummyModel(nn.Module):\n",
    "    def __init__(self, vocab_sz, d_model):  # Changed __init to __init__\n",
    "        # d_model: embedding dim\n",
    "        super().__init__()\n",
    "        self.vocab_sz = vocab_sz  # Store vocab_sz as an attribute\n",
    "        self.embedding = nn.Embedding(vocab_sz, d_model)\n",
    "        self.linear = nn.Sequential(\n",
    "            nn.Linear(d_model, d_model),\n",
    "            nn.ReLU(),\n",
    "            nn.Linear(d_model, vocab_sz),\n",
    "        )\n",
    "\n",
    "        print(\"model params:\", sum([m.numel() for m in self.parameters()]))\n",
    "    \n",
    "    def forward(self, idx, targets=None):\n",
    "        x = self.embedding(idx)\n",
    "        logits = self.linear(x)\n",
    "\n",
    "        if targets is not None:\n",
    "            loss = F.cross_entropy(logits.view(-1, self.vocab_sz), targets.view(-1))\n",
    "            return logits, loss\n",
    "        else:\n",
    "            return logits\n",
    "\n",
    "# Now you can create the model\n",
    "d_model = 64\n",
    "model = DummyModel(vocab_sz, d_model).to(device)"
   ]
  },
  {
   "cell_type": "code",
   "execution_count": 40,
   "metadata": {},
   "outputs": [],
   "source": [
    "optimizer = torch.optim.Adam(model.parameters())\n",
    "\n",
    "import time\n",
    "import pandas as pd\n",
    "from tqdm import tqdm\n",
    "\n",
    "epochs = 1\n",
    "log_interval = 1\n",
    "\n",
    "def train(model, optimizer, dataloader, epochs=10, log_interval=10, print_logs=True):\n",
    "    losses = []\n",
    "    total_start_time = time.time()\n",
    "    for epoch in range(epochs):\n",
    "        epoch_start_time = time.time()\n",
    "        data_load_time = 0\n",
    "        forward_time = 0\n",
    "        backward_time = 0\n",
    "        \n",
    "        for batch_idx, (xs, ys) in enumerate(tqdm(dataloader, desc=f\"Epoch {epoch+1}\", leave=False)):\n",
    "            batch_start_time = time.time()\n",
    "            \n",
    "            data_load_end_time = time.time()\n",
    "            data_load_time += data_load_end_time - batch_start_time\n",
    "            \n",
    "            optimizer.zero_grad()\n",
    "            xs, ys = xs.to(device), ys.to(device)\n",
    "            logits, loss = model(xs, targets=ys)\n",
    "            \n",
    "            forward_end_time = time.time()\n",
    "            forward_time += forward_end_time - data_load_end_time\n",
    "            \n",
    "            loss.backward()\n",
    "            optimizer.step()\n",
    "            \n",
    "            backward_end_time = time.time()\n",
    "            backward_time += backward_end_time - forward_end_time\n",
    "            \n",
    "            if batch_idx % log_interval == 0 or batch_idx == len(dataloader) - 1:\n",
    "                batch_time = time.time() - batch_start_time\n",
    "                x = evaluate_loss(model, dataloader)\n",
    "                losses.append(x)\n",
    "                if print_logs:\n",
    "                    print(f\"Epoch {epoch+1}, Batch {batch_idx}/{len(dataloader)} | \"\n",
    "                          f\"train loss {x['train']:.3f} | Batch Time {batch_time:.3f}s | \"\n",
    "                          f\"Data Load Time {data_load_time:.3f}s | Forward Time {forward_time:.3f}s | \"\n",
    "                          f\"Backward Time {backward_time:.3f}s\")\n",
    "                data_load_time, forward_time, backward_time = 0, 0, 0\n",
    "        \n",
    "        epoch_time = time.time() - epoch_start_time\n",
    "        print(f\"Epoch {epoch+1} completed in {epoch_time:.2f}s\")\n",
    "    \n",
    "    total_time = time.time() - total_start_time\n",
    "    print(f\"Training completed in {total_time:.2f}s\")\n",
    "    print(\"Final train loss: \", losses[-1]['train'])\n",
    "    return model"
   ]
  },
  {
   "cell_type": "code",
   "execution_count": 38,
   "metadata": {},
   "outputs": [
    {
     "name": "stdout",
     "output_type": "stream",
     "text": [
      "Running warmup batch...\n",
      "Warmup complete.\n"
     ]
    }
   ],
   "source": [
    "# Warmup\n",
    "print(\"Running warmup batch...\")\n",
    "warmup_xs, warmup_ys = next(iter(dataloader))\n",
    "warmup_xs, warmup_ys = warmup_xs.to(device), warmup_ys.to(device)\n",
    "_, warmup_loss = model(warmup_xs, targets=warmup_ys)\n",
    "warmup_loss.backward()\n",
    "print(\"Warmup complete.\")"
   ]
  },
  {
   "cell_type": "code",
   "execution_count": 41,
   "metadata": {},
   "outputs": [
    {
     "name": "stderr",
     "output_type": "stream",
     "text": [
      "Epoch 1:   3%|▎         | 8/313 [00:02<01:16,  3.99it/s]"
     ]
    },
    {
     "name": "stdout",
     "output_type": "stream",
     "text": [
      "Epoch 1, Batch 0/313 | train loss 2.551 | Batch Time 0.019s | Data Load Time 0.000s | Forward Time 0.017s | Backward Time 0.002s\n"
     ]
    },
    {
     "name": "stderr",
     "output_type": "stream",
     "text": [
      "Epoch 1:  35%|███▌      | 110/313 [00:07<00:21,  9.48it/s]"
     ]
    },
    {
     "name": "stdout",
     "output_type": "stream",
     "text": [
      "Epoch 1, Batch 100/313 | train loss 2.576 | Batch Time 0.019s | Data Load Time 0.000s | Forward Time 1.766s | Backward Time 0.070s\n"
     ]
    },
    {
     "name": "stderr",
     "output_type": "stream",
     "text": [
      "Epoch 1:  68%|██████▊   | 212/313 [00:11<00:10,  9.45it/s]"
     ]
    },
    {
     "name": "stdout",
     "output_type": "stream",
     "text": [
      "Epoch 1, Batch 200/313 | train loss 2.554 | Batch Time 0.018s | Data Load Time 0.000s | Forward Time 1.769s | Backward Time 0.069s\n"
     ]
    },
    {
     "name": "stderr",
     "output_type": "stream",
     "text": [
      "Epoch 1:  98%|█████████▊| 308/313 [00:15<00:00,  9.40it/s]"
     ]
    },
    {
     "name": "stdout",
     "output_type": "stream",
     "text": [
      "Epoch 1, Batch 300/313 | train loss 2.525 | Batch Time 0.019s | Data Load Time 0.000s | Forward Time 1.776s | Backward Time 0.061s\n"
     ]
    },
    {
     "name": "stderr",
     "output_type": "stream",
     "text": [
      "                                                          "
     ]
    },
    {
     "name": "stdout",
     "output_type": "stream",
     "text": [
      "Epoch 1, Batch 312/313 | train loss 2.522 | Batch Time 0.019s | Data Load Time 0.000s | Forward Time 0.193s | Backward Time 0.011s\n",
      "Epoch 1 completed in 18.42s\n",
      "Training completed in 18.42s\n",
      "Final train loss:  2.522393282990867\n"
     ]
    },
    {
     "name": "stderr",
     "output_type": "stream",
     "text": [
      "\r"
     ]
    }
   ],
   "source": [
    "model = train(model, optimizer, dataloader, epochs=1, log_interval=100, print_logs=True)"
   ]
  },
  {
   "cell_type": "code",
   "execution_count": 42,
   "metadata": {},
   "outputs": [
    {
     "name": "stdout",
     "output_type": "stream",
     "text": [
      "Prompt: We live in a world where\n",
      "Generated text: We live in a world where the first time , and the first time , and the first time , and the first time , and the first time , and the first time , and the first time , and the first time , and the first time , and the first time , and the first time , and the first time , and the first time , and the first time , and the first time , and the first time , and the first time , and the first time , and the first time , and the first time , and\n"
     ]
    }
   ],
   "source": [
    "def generate_text(model, tokenizer, prompt, max_length=100, temperature=1.0):\n",
    "    model.eval()\n",
    "    tokens = tokenizer.encode(prompt)\n",
    "    input_ids = torch.tensor(tokens).unsqueeze(0).to(device)\n",
    "    \n",
    "    with torch.no_grad():\n",
    "        for _ in range(max_length):\n",
    "            outputs = model(input_ids)\n",
    "            next_token_logits = outputs[:, -1, :] / temperature\n",
    "            next_token = torch.argmax(next_token_logits, dim=-1).unsqueeze(-1)\n",
    "            input_ids = torch.cat([input_ids, next_token], dim=-1)\n",
    "            \n",
    "            if next_token.item() == tokenizer.eot_token:\n",
    "                break\n",
    "    \n",
    "    generated_tokens = input_ids[0].tolist()\n",
    "    generated_text = tokenizer.decode(generated_tokens)\n",
    "    \n",
    "    return generated_text\n",
    "\n",
    "# Example usage\n",
    "prompt = \"We live in a world where\"\n",
    "generated_text = generate_text(model, dataset.tokenizer, prompt, max_length=100, temperature=0.8)\n",
    "print(f\"Prompt: {prompt}\")\n",
    "print(f\"Generated text: {generated_text}\")"
   ]
  },
  {
   "cell_type": "code",
   "execution_count": null,
   "metadata": {},
   "outputs": [],
   "source": []
  }
 ],
 "metadata": {
  "kernelspec": {
   "display_name": "smollama",
   "language": "python",
   "name": "python3"
  },
  "language_info": {
   "codemirror_mode": {
    "name": "ipython",
    "version": 3
   },
   "file_extension": ".py",
   "mimetype": "text/x-python",
   "name": "python",
   "nbconvert_exporter": "python",
   "pygments_lexer": "ipython3",
   "version": "3.10.14"
  }
 },
 "nbformat": 4,
 "nbformat_minor": 2
}
