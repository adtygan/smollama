{
 "cells": [
  {
   "cell_type": "code",
   "execution_count": 1,
   "metadata": {},
   "outputs": [
    {
     "name": "stdout",
     "output_type": "stream",
     "text": [
      "2.4.1+cu121\n"
     ]
    }
   ],
   "source": [
    "import torch\n",
    "print(torch.__version__)"
   ]
  },
  {
   "cell_type": "code",
   "execution_count": 4,
   "metadata": {},
   "outputs": [
    {
     "data": {
      "text/plain": [
       "device(type='cuda')"
      ]
     },
     "execution_count": 4,
     "metadata": {},
     "output_type": "execute_result"
    }
   ],
   "source": [
    "device = torch.device(\"cuda\" if torch.cuda.is_available() else \"cpu\")\n",
    "device"
   ]
  },
  {
   "cell_type": "code",
   "execution_count": 5,
   "metadata": {},
   "outputs": [
    {
     "name": "stderr",
     "output_type": "stream",
     "text": [
      "/root/miniconda3/envs/smollama/lib/python3.10/site-packages/tqdm/auto.py:21: TqdmWarning: IProgress not found. Please update jupyter and ipywidgets. See https://ipywidgets.readthedocs.io/en/stable/user_install.html\n",
      "  from .autonotebook import tqdm as notebook_tqdm\n"
     ]
    },
    {
     "name": "stdout",
     "output_type": "stream",
     "text": [
      "<class 'datasets.arrow_dataset.Dataset'> 1801350\n"
     ]
    }
   ],
   "source": [
    "# fetching data from hf datasets: Salesforce/wikitext\n",
    "# same as the one used by Graphcore/gpt2-wikitext-103\n",
    "import datasets\n",
    "from datasets import load_dataset\n",
    "\n",
    "ds = load_dataset(\"Salesforce/wikitext\", \"wikitext-103-raw-v1\", split='train')\n",
    "print(type(ds), len(ds))"
   ]
  },
  {
   "cell_type": "code",
   "execution_count": 6,
   "metadata": {},
   "outputs": [
    {
     "data": {
      "text/plain": [
       "{'text': ' 96 ammunition packing boxes \\n'}"
      ]
     },
     "execution_count": 6,
     "metadata": {},
     "output_type": "execute_result"
    }
   ],
   "source": [
    "ds[100]"
   ]
  },
  {
   "cell_type": "code",
   "execution_count": 7,
   "metadata": {},
   "outputs": [
    {
     "name": "stdout",
     "output_type": "stream",
     "text": [
      "[31373, 995, 11, 1309, 338, 467, 78] \n",
      " hello world, let's goo\n"
     ]
    }
   ],
   "source": [
    "import tiktoken\n",
    "\n",
    "# yes, i'm using gpt2's tokenizer here \n",
    "# it is bpe, but not the version llama used, but should be okay ig\n",
    "enc = tiktoken.get_encoding(\"gpt2\")\n",
    "\n",
    "encoded = enc.encode(\"hello world, let's goo\")\n",
    "decoded = enc.decode(encoded)\n",
    "print(encoded, '\\n', decoded)"
   ]
  },
  {
   "cell_type": "code",
   "execution_count": 12,
   "metadata": {},
   "outputs": [
    {
     "name": "stdout",
     "output_type": "stream",
     "text": [
      "VOCAB SIZE: 50257\n"
     ]
    }
   ],
   "source": [
    "vocab_sz = enc.n_vocab\n",
    "print(f\"VOCAB SIZE: {vocab_sz}\")"
   ]
  },
  {
   "cell_type": "code",
   "execution_count": 8,
   "metadata": {},
   "outputs": [
    {
     "data": {
      "text/plain": [
       "166"
      ]
     },
     "execution_count": 8,
     "metadata": {},
     "output_type": "execute_result"
    }
   ],
   "source": [
    "len(enc.encode(ds[3]['text']))"
   ]
  },
  {
   "cell_type": "code",
   "execution_count": 16,
   "metadata": {},
   "outputs": [],
   "source": [
    "import torch\n",
    "from torch.utils.data import Dataset, DataLoader\n",
    "from datasets import load_dataset\n",
    "import tiktoken\n",
    "\n",
    "class WikiText103Dataset(Dataset):\n",
    "    def __init__(self, split='train', seq_len=128):\n",
    "        dataset = load_dataset(\"Salesforce/wikitext\", \"wikitext-103-v1\", split=split)\n",
    "        self.tokenizer = tiktoken.get_encoding(\"gpt2\")\n",
    "        self.seq_len = seq_len\n",
    "        \n",
    "        # Filter out empty entries\n",
    "        self.dataset = [item for item in dataset if item['text'].strip()]\n",
    "\n",
    "    def __len__(self):\n",
    "        return len(self.dataset)\n",
    "\n",
    "    # TODO: not the most optimized, but simple and works, can use pad_sequence\n",
    "    # TODO: also needs attention mask\n",
    "    def __getitem__(self, idx):\n",
    "        text = self.dataset[idx]['text']\n",
    "        tokens = self.tokenizer.encode(text)\n",
    "        \n",
    "        # we need to pull 1 more token above seq_len \n",
    "        # reason: [a,b,c] -> [b,c,d] for seq [a,b,c,d]\n",
    "\n",
    "        # clip tokens if exceeding seq_lim + 1\n",
    "        if len(tokens) > (self.seq_len + 1):\n",
    "            tokens = tokens[:(self.seq_len + 1)] \n",
    "        # pad with zeros if short of seq_len + 1\n",
    "        else:\n",
    "            tokens = tokens + [0] * ((self.seq_len + 1) - len(tokens)) \n",
    "\n",
    "        x = torch.tensor(tokens[:-1], dtype=torch.long)\n",
    "        y = torch.tensor(tokens[1:], dtype=torch.long)\n",
    "        \n",
    "        return x, y\n",
    "\n",
    "# create dataset and dataloader\n",
    "dataset = WikiText103Dataset(split='train')\n",
    "dataloader = DataLoader(dataset, batch_size=16, shuffle=True)"
   ]
  },
  {
   "cell_type": "code",
   "execution_count": 17,
   "metadata": {},
   "outputs": [
    {
     "name": "stdout",
     "output_type": "stream",
     "text": [
      "torch.Size([16, 128]) torch.Size([16, 128])\n",
      "\n",
      "[INPUT]  As a writer and director of a number of science\n",
      "[OUTPUT]  a writer and director of a number of science fiction\n",
      "----------\n",
      "[INPUT]  In the meantime , at about 11 : 00 am\n",
      "[OUTPUT]  the meantime , at about 11 : 00 am ,\n",
      "----------\n",
      "[INPUT]  In September 2010 , Entertainment Weekly reported that based on\n",
      "[OUTPUT]  September 2010 , Entertainment Weekly reported that based on reviews\n",
      "----------\n",
      "[INPUT]  Schmerber submitted an appeal to the Supreme Court\n",
      "[OUTPUT] merber submitted an appeal to the Supreme Court of\n",
      "----------\n",
      "[INPUT]  Meanwhile , she had begun a friendship with Berkman\n",
      "[OUTPUT]  , she had begun a friendship with Berkman ,\n",
      "----------\n"
     ]
    }
   ],
   "source": [
    "# sample\n",
    "for batch in dataloader:\n",
    "    x, y = batch\n",
    "    print(x.shape, y.shape)\n",
    "    print()\n",
    "    for input, output in zip(x.tolist()[:5], y.tolist()[:5]):\n",
    "        print(\"[INPUT]\", enc.decode(input[:10]))\n",
    "        print(\"[OUTPUT]\", enc.decode(output[:10]))\n",
    "        print(\"-\"*10)\n",
    "    break"
   ]
  },
  {
   "cell_type": "code",
   "execution_count": 22,
   "metadata": {},
   "outputs": [],
   "source": [
    "# copping from @bkitano xd\n",
    "# TODO: i'm not using an eval set for now, but when i do, below function should be modded\n",
    "# check @bkitano's implem\n",
    "\n",
    "import numpy as np\n",
    "\n",
    "@torch.no_grad()\n",
    "def evaluate_loss(model):\n",
    "    out = {}\n",
    "    model.eval()\n",
    "    losses = []\n",
    "    for batch in dataloader:\n",
    "        xb, yb = batch\n",
    "        xb, yb = xb.to(device), yb.to(device)\n",
    "        _, loss = model(xb, yb)\n",
    "        losses.append(loss.item())\n",
    "    out[\"train\"] = np.mean(losses)\n",
    "    model.train()\n",
    "    return out"
   ]
  },
  {
   "cell_type": "code",
   "execution_count": 24,
   "metadata": {},
   "outputs": [
    {
     "name": "stdout",
     "output_type": "stream",
     "text": [
      "model params: 6487313\n"
     ]
    }
   ],
   "source": [
    "from torch import nn\n",
    "from torch.nn import functional as F\n",
    "\n",
    "class DummyModel(nn.Module):\n",
    "    def __init__(self, vocab_sz, d_model):  # Changed __init to __init__\n",
    "        # d_model: embedding dim\n",
    "        super().__init__()\n",
    "        self.vocab_sz = vocab_sz  # Store vocab_sz as an attribute\n",
    "        self.embedding = nn.Embedding(vocab_sz, d_model)\n",
    "        self.linear = nn.Sequential(\n",
    "            nn.Linear(d_model, d_model),\n",
    "            nn.ReLU(),\n",
    "            nn.Linear(d_model, vocab_sz),\n",
    "        )\n",
    "\n",
    "        print(\"model params:\", sum([m.numel() for m in self.parameters()]))\n",
    "    \n",
    "    def forward(self, idx, targets=None):\n",
    "        x = self.embedding(idx)\n",
    "        logits = self.linear(x)\n",
    "\n",
    "        if targets is not None:\n",
    "            loss = F.cross_entropy(logits.view(-1, self.vocab_sz), targets.view(-1))\n",
    "            return logits, loss\n",
    "        else:\n",
    "            return logits\n",
    "\n",
    "# Now you can create the model\n",
    "d_model = 64\n",
    "model = DummyModel(vocab_sz, d_model).to(device)"
   ]
  },
  {
   "cell_type": "code",
   "execution_count": 25,
   "metadata": {},
   "outputs": [
    {
     "name": "stderr",
     "output_type": "stream",
     "text": [
      "Epochs:   0%|          | 0/10 [01:53<?, ?it/s]\n"
     ]
    },
    {
     "ename": "KeyboardInterrupt",
     "evalue": "",
     "output_type": "error",
     "traceback": [
      "\u001b[0;31m---------------------------------------------------------------------------\u001b[0m",
      "\u001b[0;31mKeyboardInterrupt\u001b[0m                         Traceback (most recent call last)",
      "Cell \u001b[0;32mIn[25], line 34\u001b[0m\n\u001b[1;32m     31\u001b[0m     \u001b[38;5;28mprint\u001b[39m(\u001b[38;5;124m\"\u001b[39m\u001b[38;5;124mFinal train loss: \u001b[39m\u001b[38;5;124m\"\u001b[39m, losses[\u001b[38;5;241m-\u001b[39m\u001b[38;5;241m1\u001b[39m][\u001b[38;5;124m'\u001b[39m\u001b[38;5;124mtrain\u001b[39m\u001b[38;5;124m'\u001b[39m])\n\u001b[1;32m     32\u001b[0m     \u001b[38;5;28;01mreturn\u001b[39;00m pd\u001b[38;5;241m.\u001b[39mDataFrame(losses)\u001b[38;5;241m.\u001b[39mplot()\n\u001b[0;32m---> 34\u001b[0m \u001b[43mtrain\u001b[49m\u001b[43m(\u001b[49m\u001b[43mmodel\u001b[49m\u001b[43m,\u001b[49m\u001b[43m \u001b[49m\u001b[43moptimizer\u001b[49m\u001b[43m,\u001b[49m\u001b[43m \u001b[49m\u001b[43mdataloader\u001b[49m\u001b[43m,\u001b[49m\u001b[43m \u001b[49m\u001b[43mepochs\u001b[49m\u001b[38;5;241;43m=\u001b[39;49m\u001b[38;5;241;43m10\u001b[39;49m\u001b[43m,\u001b[49m\u001b[43m \u001b[49m\u001b[43mlog_interval\u001b[49m\u001b[38;5;241;43m=\u001b[39;49m\u001b[38;5;241;43m100\u001b[39;49m\u001b[43m,\u001b[49m\u001b[43m \u001b[49m\u001b[43mprint_logs\u001b[49m\u001b[38;5;241;43m=\u001b[39;49m\u001b[38;5;28;43;01mTrue\u001b[39;49;00m\u001b[43m)\u001b[49m\n",
      "Cell \u001b[0;32mIn[25], line 25\u001b[0m, in \u001b[0;36mtrain\u001b[0;34m(model, optimizer, dataloader, epochs, log_interval, print_logs)\u001b[0m\n\u001b[1;32m     23\u001b[0m \u001b[38;5;28;01mif\u001b[39;00m batch_idx \u001b[38;5;241m%\u001b[39m log_interval \u001b[38;5;241m==\u001b[39m \u001b[38;5;241m0\u001b[39m:\n\u001b[1;32m     24\u001b[0m     batch_time \u001b[38;5;241m=\u001b[39m time\u001b[38;5;241m.\u001b[39mtime() \u001b[38;5;241m-\u001b[39m start_time\n\u001b[0;32m---> 25\u001b[0m     x \u001b[38;5;241m=\u001b[39m \u001b[43mevaluate_loss\u001b[49m\u001b[43m(\u001b[49m\u001b[43mmodel\u001b[49m\u001b[43m)\u001b[49m\n\u001b[1;32m     26\u001b[0m     losses\u001b[38;5;241m.\u001b[39mappend(x)\n\u001b[1;32m     27\u001b[0m     \u001b[38;5;28;01mif\u001b[39;00m print_logs:\n",
      "File \u001b[0;32m~/miniconda3/envs/smollama/lib/python3.10/site-packages/torch/utils/_contextlib.py:116\u001b[0m, in \u001b[0;36mcontext_decorator.<locals>.decorate_context\u001b[0;34m(*args, **kwargs)\u001b[0m\n\u001b[1;32m    113\u001b[0m \u001b[38;5;129m@functools\u001b[39m\u001b[38;5;241m.\u001b[39mwraps(func)\n\u001b[1;32m    114\u001b[0m \u001b[38;5;28;01mdef\u001b[39;00m \u001b[38;5;21mdecorate_context\u001b[39m(\u001b[38;5;241m*\u001b[39margs, \u001b[38;5;241m*\u001b[39m\u001b[38;5;241m*\u001b[39mkwargs):\n\u001b[1;32m    115\u001b[0m     \u001b[38;5;28;01mwith\u001b[39;00m ctx_factory():\n\u001b[0;32m--> 116\u001b[0m         \u001b[38;5;28;01mreturn\u001b[39;00m \u001b[43mfunc\u001b[49m\u001b[43m(\u001b[49m\u001b[38;5;241;43m*\u001b[39;49m\u001b[43margs\u001b[49m\u001b[43m,\u001b[49m\u001b[43m \u001b[49m\u001b[38;5;241;43m*\u001b[39;49m\u001b[38;5;241;43m*\u001b[39;49m\u001b[43mkwargs\u001b[49m\u001b[43m)\u001b[49m\n",
      "Cell \u001b[0;32mIn[22], line 16\u001b[0m, in \u001b[0;36mevaluate_loss\u001b[0;34m(model)\u001b[0m\n\u001b[1;32m     14\u001b[0m     xb, yb \u001b[38;5;241m=\u001b[39m xb\u001b[38;5;241m.\u001b[39mto(device), yb\u001b[38;5;241m.\u001b[39mto(device)\n\u001b[1;32m     15\u001b[0m     _, loss \u001b[38;5;241m=\u001b[39m model(xb, yb)\n\u001b[0;32m---> 16\u001b[0m     losses\u001b[38;5;241m.\u001b[39mappend(\u001b[43mloss\u001b[49m\u001b[38;5;241;43m.\u001b[39;49m\u001b[43mitem\u001b[49m\u001b[43m(\u001b[49m\u001b[43m)\u001b[49m)\n\u001b[1;32m     17\u001b[0m out[\u001b[38;5;124m\"\u001b[39m\u001b[38;5;124mtrain\u001b[39m\u001b[38;5;124m\"\u001b[39m] \u001b[38;5;241m=\u001b[39m np\u001b[38;5;241m.\u001b[39mmean(losses)\n\u001b[1;32m     18\u001b[0m model\u001b[38;5;241m.\u001b[39mtrain()\n",
      "\u001b[0;31mKeyboardInterrupt\u001b[0m: "
     ]
    }
   ],
   "source": [
    "optimizer = torch.optim.Adam(model.parameters())\n",
    "\n",
    "import time\n",
    "import pandas as pd\n",
    "from tqdm import tqdm\n",
    "\n",
    "epochs = 1\n",
    "log_interval = 1\n",
    "\n",
    "def train(model, optimizer, dataloader, epochs=10, log_interval=100, print_logs=False):\n",
    "    losses = []\n",
    "    for epoch in tqdm(range(epochs), desc=\"Epochs\"):\n",
    "        start_time = time.time()\n",
    "        for batch_idx, (xs, ys) in enumerate(tqdm(dataloader, desc=f\"Epoch {epoch+1}\", leave=False)):\n",
    "            optimizer.zero_grad()\n",
    "\n",
    "            xs, ys = xs.to(device), ys.to(device)\n",
    "            \n",
    "            logits, loss = model(xs, targets=ys)\n",
    "            loss.backward()\n",
    "            optimizer.step()\n",
    "            \n",
    "            if batch_idx % log_interval == 0:\n",
    "                batch_time = time.time() - start_time\n",
    "                x = evaluate_loss(model)\n",
    "                losses.append(x)\n",
    "                if print_logs:\n",
    "                    print(f\"Epoch {epoch+1}, Batch {batch_idx} | train loss {x['train']:.3f} | Time {batch_time:.3f}\")\n",
    "                start_time = time.time()\n",
    "\n",
    "    print(\"Final train loss: \", losses[-1]['train'])\n",
    "    return pd.DataFrame(losses).plot()\n",
    "\n",
    "train(model, optimizer, dataloader, epochs=10, log_interval=100, print_logs=True)"
   ]
  }
 ],
 "metadata": {
  "kernelspec": {
   "display_name": "smollama",
   "language": "python",
   "name": "python3"
  },
  "language_info": {
   "codemirror_mode": {
    "name": "ipython",
    "version": 3
   },
   "file_extension": ".py",
   "mimetype": "text/x-python",
   "name": "python",
   "nbconvert_exporter": "python",
   "pygments_lexer": "ipython3",
   "version": "3.10.14"
  }
 },
 "nbformat": 4,
 "nbformat_minor": 2
}
